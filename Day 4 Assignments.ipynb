{
 "cells": [
  {
   "cell_type": "markdown",
   "metadata": {},
   "source": [
    "Question 1 :\n",
    "Research on whether addition, subtraction, multiplication, division, floor division and modulo\n",
    "operations be performed on complex numbers. Based on your study, implement a Python\n",
    "program to demonstrate these operations."
   ]
  },
  {
   "cell_type": "code",
   "execution_count": 8,
   "metadata": {},
   "outputs": [
    {
     "name": "stdout",
     "output_type": "stream",
     "text": [
      "The subtraction of two complex number is (1-3j)\n",
      "The Additions of two complex number is (1-3j)\n",
      "The Multiplication of two complex number is (1-3j)\n",
      "The division of two complex number is (1-3j)\n"
     ]
    }
   ],
   "source": [
    "def SubComplex(i1,i2):\n",
    "    return i1-i2\n",
    "\n",
    "i1 = complex(5, 3)\n",
    "i2 = complex(4, 6)\n",
    "print(\"The subtraction of two complex number is\", subComplex(i1, i2))\n"
   ]
  },
  {
   "cell_type": "code",
   "execution_count": 13,
   "metadata": {},
   "outputs": [
    {
     "name": "stdout",
     "output_type": "stream",
     "text": [
      "The Additions of two complex number is (9+9j)\n"
     ]
    }
   ],
   "source": [
    "def AddComplex(i1,i2):\n",
    "    return i1+i2\n",
    "i1 = complex(5, 3)\n",
    "i2 = complex(4, 6)\n",
    "print(\"The Additions of two complex number is\", AddComplex(i1, i2))\n"
   ]
  },
  {
   "cell_type": "code",
   "execution_count": 15,
   "metadata": {},
   "outputs": [
    {
     "name": "stdout",
     "output_type": "stream",
     "text": [
      "The Multiplicaion of two complex number is (2+42j)\n"
     ]
    }
   ],
   "source": [
    "def MultiComplex(i1,i2):\n",
    "    return i1*i2\n",
    "i1 = complex(5, 3)\n",
    "i2 = complex(4, 6)\n",
    "print(\"The Multiplicaion of two complex number is\", MultiComplex(i1, i2))"
   ]
  },
  {
   "cell_type": "markdown",
   "metadata": {},
   "source": [
    "# Floor division and modulus function: \n",
    "\n",
    "\n",
    "Floor and modulus operators (// and % respectively) are not allowed to be used on complex number in Python 3.x. However, these operations are defined for complex numbers in Python 2.7.x\n",
    "\n"
   ]
  },
  {
   "cell_type": "markdown",
   "metadata": {},
   "source": [
    "# Question 2 :\n",
    "\n",
    "Research on range() functions and its parameters. Create a markdown cell and write in your own\n",
    "words (no copy-paste from google please) what you understand about it. Implement a small\n",
    "program of your choice on the same.\n"
   ]
  },
  {
   "cell_type": "markdown",
   "metadata": {},
   "source": [
    "Range ():\n",
    "\n",
    "Python range() used to generate the data set between start and stop value. Using for() loop we can itertae the squence of numbers prouced by range().\n",
    "\n"
   ]
  },
  {
   "cell_type": "code",
   "execution_count": 24,
   "metadata": {},
   "outputs": [
    {
     "name": "stdout",
     "output_type": "stream",
     "text": [
      "Python range() example\n",
      "Get numbers from range 0 to 6\n",
      "0, 1, 2, 3, 4, 5, "
     ]
    }
   ],
   "source": [
    "print(\"Python range() example\")\n",
    "print(\"Get numbers from range 0 to 6\")\n",
    "for i in range(6):\n",
    "    print(i, end=', ')"
   ]
  },
  {
   "cell_type": "markdown",
   "metadata": {},
   "source": [
    "We got integers from 0 to 5 because range() function doesn’t include the last (stop) number in the result."
   ]
  },
  {
   "cell_type": "markdown",
   "metadata": {},
   "source": [
    "Syntax: range(start,stop, step)\n",
    "\n",
    "Parameters:\n",
    "\n",
    "start: (Optional) : An interger number which specify where to start. Default value is 0\n",
    "\n",
    "stop: Required : An interger number which specify where to stop.\n",
    "\n",
    "Step: An interger number which specify how much to increment the values. Default value is 1"
   ]
  },
  {
   "cell_type": "code",
   "execution_count": 32,
   "metadata": {},
   "outputs": [
    {
     "name": "stdout",
     "output_type": "stream",
     "text": [
      "1\n",
      "3\n",
      "5\n",
      "7\n",
      "9\n"
     ]
    }
   ],
   "source": [
    "x = range (1, 10, 2)\n",
    "for i in x:\n",
    "    print(i)"
   ]
  },
  {
   "cell_type": "markdown",
   "metadata": {},
   "source": [
    "# Question 3:\n",
    "Consider two numbers. Perform their subtraction and if the result of subtraction is greater than\n",
    "25, print their multiplication result else print their division result."
   ]
  },
  {
   "cell_type": "code",
   "execution_count": 56,
   "metadata": {},
   "outputs": [
    {
     "name": "stdout",
     "output_type": "stream",
     "text": [
      "Please enter the number 1: 20\n",
      "Please enter the number 2: 10\n",
      "The subtraction of two  number is 10\n",
      "The division is 2.0\n"
     ]
    }
   ],
   "source": [
    "num1=int(input(\"Please enter the number 1: \"))\n",
    "num2=int(input(\"Please enter the number 2: \"))\n",
    "Sub = num1-num2\n",
    "print(\"The subtraction of two  number is\", Sub)\n",
    "if Sub>=25:\n",
    "    add = num1+num2\n",
    "    print(\"The multiplication is\", add)\n",
    "else:\n",
    "    div = num1/num2\n",
    "    print(\"The division is\", div)"
   ]
  },
  {
   "cell_type": "markdown",
   "metadata": {},
   "source": [
    "# Question 4:\n",
    "\n",
    "Consider a list of 10 elements of integer values. If the number in the list is divisible by 2, print the\n",
    "result as \"square of that number minus 2\"."
   ]
  },
  {
   "cell_type": "code",
   "execution_count": 84,
   "metadata": {},
   "outputs": [
    {
     "name": "stdout",
     "output_type": "stream",
     "text": [
      "The results is -0.5857864376269049\n",
      "The results is 0.0\n",
      "The results is 2.4721359549995796\n",
      "The results is 0.8284271247461903\n",
      "The results is 2.6904157598234297\n",
      "The results is 2.2426406871192848\n",
      "[2, 4, 20, 8, 22, 18]\n",
      "[1, 9, 11, 15]\n"
     ]
    }
   ],
   "source": [
    "import math\n",
    "\n",
    "x = [2,1,4,9,20,8,11,22,18,15]\n",
    "y=[]\n",
    "z=[]\n",
    "for i in x:\n",
    "    if(i%2)==0:\n",
    "        y.append(i)\n",
    "        result = math.sqrt(i)-2\n",
    "        print(\"The results is\", result)\n",
    "    else:\n",
    "        z.append(i)\n",
    "    \n",
    "print(y)\n",
    "print(z)\n",
    "\n",
    "        "
   ]
  },
  {
   "cell_type": "markdown",
   "metadata": {},
   "source": [
    "# Question 5:\n",
    "Consider a list of 10 elements. Print all the elements in the list which are greater than 7 when that\n",
    "number is divided 2."
   ]
  },
  {
   "cell_type": "code",
   "execution_count": 95,
   "metadata": {},
   "outputs": [
    {
     "name": "stdout",
     "output_type": "stream",
     "text": [
      "Numbers lesse than 7 : [2]\n",
      "Numbers lesse than 7 : [2, 1]\n",
      "Numbers lesse than 7 : [2, 1, 4]\n",
      "The numbers are greater than 7 and divisible by 2 : [20]\n",
      "The numbers are greater than 7 and divisible by 2 : [20, 8]\n",
      "The numbers are greater than 7 and divisible by 2 : [20, 8, 22]\n",
      "The numbers are greater than 7 and divisible by 2 : [20, 8, 22, 18]\n"
     ]
    }
   ],
   "source": [
    "x = [2,1,4,9,20,8,11,22,18,15]\n",
    "y=[]\n",
    "z=[]\n",
    "for i in x:\n",
    "    if i>7:\n",
    "        if i%2==0:\n",
    "            y.append(i)\n",
    "            print(\"The numbers are greater than 7 and divisible by 2 :\", y)\n",
    "        elif i<7:\n",
    "                print(\"Number is lesse than 7\")\n",
    "    else:\n",
    "        z.append(i)\n",
    "        print(\"Numbers lesse than 7 :\", z)\n",
    "        "
   ]
  },
  {
   "cell_type": "code",
   "execution_count": null,
   "metadata": {},
   "outputs": [],
   "source": []
  }
 ],
 "metadata": {
  "kernelspec": {
   "display_name": "Python 3",
   "language": "python",
   "name": "python3"
  },
  "language_info": {
   "codemirror_mode": {
    "name": "ipython",
    "version": 3
   },
   "file_extension": ".py",
   "mimetype": "text/x-python",
   "name": "python",
   "nbconvert_exporter": "python",
   "pygments_lexer": "ipython3",
   "version": "3.7.6"
  }
 },
 "nbformat": 4,
 "nbformat_minor": 4
}
