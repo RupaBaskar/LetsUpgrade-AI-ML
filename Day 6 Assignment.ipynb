{
 "cells": [
  {
   "cell_type": "markdown",
   "metadata": {},
   "source": [
    "# Question 1:\n",
    "Assuming that we have some email addresses in the \"username@companyname.com\" format, please write program\n",
    "to print the company name of a given email address. Both user names and company names are composed of letters\n",
    "only.\n"
   ]
  },
  {
   "cell_type": "code",
   "execution_count": 1,
   "metadata": {},
   "outputs": [
    {
     "data": {
      "text/plain": [
       "'amdocs'"
      ]
     },
     "execution_count": 1,
     "metadata": {},
     "output_type": "execute_result"
    }
   ],
   "source": [
    "line = \"rupadevi@amdocs.com\"\n",
    "str = line.split(\".\")[0]\n",
    "str.split(\"@\")[1]"
   ]
  },
  {
   "cell_type": "markdown",
   "metadata": {},
   "source": [
    "# Question 2:\n",
    "Write a program that accepts a comma-separated sequence of words as input and prints the words in a comma\n",
    "separated sequence after sorting them alphabetically.\n"
   ]
  },
  {
   "cell_type": "code",
   "execution_count": 2,
   "metadata": {},
   "outputs": [
    {
     "name": "stdout",
     "output_type": "stream",
     "text": [
      "Input comma separated sequence of wordswithout,hello,bag,world\n",
      "bag,hello,without,world\n"
     ]
    }
   ],
   "source": [
    "items = input(\"Input comma separated sequence of words\")\n",
    "words = [word for word in items.split(\",\")]\n",
    "print(\",\".join(sorted(list(set(words)))))"
   ]
  },
  {
   "cell_type": "markdown",
   "metadata": {},
   "source": [
    "# Question 3:\n",
    "Create your own Jupyter Notebook for Sets.\n",
    "Reference link: https://www.w3schools.com/python/python_sets.asp"
   ]
  },
  {
   "cell_type": "markdown",
   "metadata": {},
   "source": [
    "# Set\n",
    "It is a collection which is unordered and unindexed.\n",
    "It does not allow repeating elements.\n",
    "It is enclosed with in {}.\n"
   ]
  },
  {
   "cell_type": "raw",
   "metadata": {},
   "source": [
    "\n",
    "Functions\n",
    "add(): It is used to add an element to a set.\n",
    "\n",
    "clear(): It is used to clear the entier set.\n",
    "\n",
    "copy(): It is used to copy the existing set to another variable. An changes to the original dictionary will not affect the copied set.\n",
    "\n",
    "difference(): It is used to get a set containing only the elements in the first set which are not in the second set.\n",
    "\n",
    "difference_update(): It is used to update the first set with the difference of two sets.\n",
    "\n",
    "discard(): It is used to remove the specified element from the set.\n",
    "\n",
    "intersection(): It is used to get the similar elements from 2 or more sets.\n",
    "\n",
    "intersection_update(): It is used to update the first set with result of intersection function.\n",
    "\n",
    "isdisjoint(): It is used to check two set are disjoint sets.\n",
    "\n",
    "issubset(): It is used to check one set is sub set of another set.\n",
    "\n",
    "issuperset(): It is used to check one set is super set of another set.\n",
    "\n",
    "pop(): It is used to remove a randow element from the set.\n",
    "\n",
    "remove(): It is used to remove a specific element from the set. If the element is not present it will through an error.\n",
    "\n",
    "symmetric_difference(): It is used to get a set containing elements from both the set which are not present in both sets.\n",
    "\n",
    "symmetric_difference_update(): It is used to update the original set with the result of symmetric_difference.\n",
    "\n",
    "union(): It is used to combine two or more sets without repeating of elements.\n",
    "\n",
    "update(): It is used to update a set at the same time it perform the union function also.\n"
   ]
  },
  {
   "cell_type": "code",
   "execution_count": 3,
   "metadata": {},
   "outputs": [
    {
     "name": "stdout",
     "output_type": "stream",
     "text": [
      "Printing set a:\n",
      "{1, 2, 3, 4, 5}\n",
      "\n",
      "\n",
      "Printing set b:\n",
      "{3, 4, 5, 6, 7, 8}\n",
      "\n",
      "\n",
      "Printing the set a with element 6 added to it:\n",
      "{1, 2, 3, 4, 5, 6}\n"
     ]
    }
   ],
   "source": [
    "# Set add() function:\n",
    "a = {1,2,3,4,5}\n",
    "b = {3,4,5,6,7,8}\n",
    "\n",
    "print(\"Printing set a:\")\n",
    "print(a)\n",
    "print(\"\\n\")\n",
    "\n",
    "print(\"Printing set b:\")\n",
    "print(b)\n",
    "print(\"\\n\")\n",
    "\n",
    "print(\"Printing the set a with element 6 added to it:\")\n",
    "a.add(6)\n",
    "print(a)"
   ]
  },
  {
   "cell_type": "code",
   "execution_count": 4,
   "metadata": {},
   "outputs": [
    {
     "name": "stdout",
     "output_type": "stream",
     "text": [
      "printing set c which is copied from set a:\n",
      "{1, 2, 3, 4, 5, 6}\n",
      "\n",
      "\n",
      "Printing set c after it is cleared:\n",
      "set()\n"
     ]
    }
   ],
   "source": [
    "# Set copy() and clear() function:\n",
    "c = a.copy()\n",
    "print(\"printing set c which is copied from set a:\")\n",
    "print(c)\n",
    "print(\"\\n\")\n",
    "\n",
    "c.clear()\n",
    "print(\"Printing set c after it is cleared:\")\n",
    "print(c)"
   ]
  },
  {
   "cell_type": "code",
   "execution_count": 5,
   "metadata": {},
   "outputs": [
    {
     "name": "stdout",
     "output_type": "stream",
     "text": [
      "Printing the set c which is result of difference function:\n",
      "{1, 2}\n"
     ]
    }
   ],
   "source": [
    "# Set difference() function:\n",
    "c = a.difference(b)\n",
    "print(\"Printing the set c which is result of difference function:\")\n",
    "print(c)"
   ]
  },
  {
   "cell_type": "code",
   "execution_count": 6,
   "metadata": {},
   "outputs": [
    {
     "name": "stdout",
     "output_type": "stream",
     "text": [
      "Printing set a the result of difference_update function:\n",
      "{1, 2}\n"
     ]
    }
   ],
   "source": [
    "# Set difference_update() function:\n",
    "print(\"Printing set a the result of difference_update function:\")\n",
    "a.difference_update(b)\n",
    "print(a)"
   ]
  },
  {
   "cell_type": "code",
   "execution_count": 7,
   "metadata": {},
   "outputs": [
    {
     "name": "stdout",
     "output_type": "stream",
     "text": [
      "Printing set a after removing 2 using discard function:\n",
      "{1}\n"
     ]
    }
   ],
   "source": [
    "# Set discard() function:\n",
    "print(\"Printing set a after removing 2 using discard function:\")\n",
    "a.discard(2)\n",
    "print(a)"
   ]
  },
  {
   "cell_type": "code",
   "execution_count": 8,
   "metadata": {},
   "outputs": [
    {
     "name": "stdout",
     "output_type": "stream",
     "text": [
      "Printing set c which is intersection of set a and b:\n",
      "{3, 4, 5}\n"
     ]
    }
   ],
   "source": [
    "# Set intersection() function:\n",
    "a = {1,2,3,4,5}\n",
    "b = {3,4,5,6,7,8}\n",
    "\n",
    "c = a.intersection(b)\n",
    "print(\"Printing set c which is intersection of set a and b:\")\n",
    "print(c)"
   ]
  },
  {
   "cell_type": "code",
   "execution_count": 9,
   "metadata": {},
   "outputs": [
    {
     "name": "stdout",
     "output_type": "stream",
     "text": [
      "Printing set a which is result of intersection_update:\n",
      "{3, 4, 5}\n"
     ]
    }
   ],
   "source": [
    "# Set intersection_update() function:\n",
    "a.intersection_update(b)\n",
    "print(\"Printing set a which is result of intersection_update:\")\n",
    "print(a)"
   ]
  },
  {
   "cell_type": "code",
   "execution_count": 10,
   "metadata": {},
   "outputs": [
    {
     "name": "stdout",
     "output_type": "stream",
     "text": [
      "Printing the result of isdisjoint between a and b:\n",
      "False\n",
      "\n",
      "\n",
      "Printing the result of isdisjoint between a and b with no common value:\n",
      "True\n"
     ]
    }
   ],
   "source": [
    "# Set isdisjoint() function:\n",
    "print(\"Printing the result of isdisjoint between a and b:\")\n",
    "print(a.isdisjoint(b))\n",
    "print(\"\\n\")\n",
    "\n",
    "a = {1,2}\n",
    "b = {3,4}\n",
    "print(\"Printing the result of isdisjoint between a and b with no common value:\")\n",
    "print(a.isdisjoint(b))"
   ]
  },
  {
   "cell_type": "code",
   "execution_count": 11,
   "metadata": {},
   "outputs": [
    {
     "name": "stdout",
     "output_type": "stream",
     "text": [
      "Printing the result a is subset of b:\n",
      "True\n"
     ]
    }
   ],
   "source": [
    "# Set issubset() function:\n",
    "a = {1,2,3,4}\n",
    "b = {1,2,3,4,5,6,7}\n",
    "print(\"Printing the result a is subset of b:\")\n",
    "print(a.issubset(b))"
   ]
  },
  {
   "cell_type": "code",
   "execution_count": 12,
   "metadata": {},
   "outputs": [
    {
     "name": "stdout",
     "output_type": "stream",
     "text": [
      "Printing the result a is super set of b:\n",
      "True\n"
     ]
    }
   ],
   "source": [
    "# Set issuperset() function:\n",
    "a = {1,2,3,4}\n",
    "b = {1,2,3}\n",
    "print(\"Printing the result a is super set of b:\")\n",
    "print(a.issuperset(b))"
   ]
  },
  {
   "cell_type": "code",
   "execution_count": 13,
   "metadata": {},
   "outputs": [
    {
     "name": "stdout",
     "output_type": "stream",
     "text": [
      "Printing set a after pop method is used:\n",
      "poped value:  1\n",
      "{2, 3, 4, 6}\n"
     ]
    }
   ],
   "source": [
    "# Set pop() function:\n",
    "a = {1,2,3,4,6}\n",
    "print(\"Printing set a after pop method is used:\")\n",
    "output=a.pop()\n",
    "print(\"poped value: \", output)\n",
    "print(a)"
   ]
  },
  {
   "cell_type": "code",
   "execution_count": 14,
   "metadata": {},
   "outputs": [
    {
     "name": "stdout",
     "output_type": "stream",
     "text": [
      "Printing set a after removing 4 from set a:\n",
      "{1, 2, 3}\n"
     ]
    }
   ],
   "source": [
    "# Set remove() function:\n",
    "a = {1,2,3,4}\n",
    "print(\"Printing set a after removing 4 from set a:\")\n",
    "a.remove(4)\n",
    "print(a)"
   ]
  },
  {
   "cell_type": "code",
   "execution_count": 15,
   "metadata": {},
   "outputs": [
    {
     "name": "stdout",
     "output_type": "stream",
     "text": [
      "Printing the elements which are not in both set a and b:\n",
      "{4}\n"
     ]
    }
   ],
   "source": [
    "# Set symmetric_difference() function:\n",
    "a = {1,2,3,4}\n",
    "b = {1,2,3}\n",
    "print(\"Printing the elements which are not in both set a and b:\")\n",
    "print(a.symmetric_difference(b))"
   ]
  },
  {
   "cell_type": "code",
   "execution_count": 16,
   "metadata": {},
   "outputs": [
    {
     "name": "stdout",
     "output_type": "stream",
     "text": [
      "Printing the result of symmetric_difference_update on set a:\n",
      "{4}\n"
     ]
    }
   ],
   "source": [
    "# Set symmetric_difference_update() function:\n",
    "a = {1,2,3,4}\n",
    "b = {1,2,3}\n",
    "a.symmetric_difference_update(b)\n",
    "print(\"Printing the result of symmetric_difference_update on set a:\")\n",
    "print(a)"
   ]
  },
  {
   "cell_type": "code",
   "execution_count": 17,
   "metadata": {},
   "outputs": [
    {
     "name": "stdout",
     "output_type": "stream",
     "text": [
      "Printing the result of union function:\n",
      "{1, 2, 3, 4}\n"
     ]
    }
   ],
   "source": [
    "# Set union() function:\n",
    "a = {1,2,3,4}\n",
    "b = {1,2,3}\n",
    "print(\"Printing the result of union function:\")\n",
    "print(a.union(b))\n"
   ]
  },
  {
   "cell_type": "code",
   "execution_count": 18,
   "metadata": {},
   "outputs": [
    {
     "name": "stdout",
     "output_type": "stream",
     "text": [
      "Printing the result of update function:\n",
      "{1, 2, 3, 4, 5}\n"
     ]
    }
   ],
   "source": [
    "# Set update() function:\n",
    "a = {1,2,3,4}\n",
    "b = {1,2,3,5}\n",
    "a.update(b)\n",
    "print(\"Printing the result of update function:\")\n",
    "print(a)"
   ]
  },
  {
   "cell_type": "markdown",
   "metadata": {},
   "source": [
    "# Question 4:\n",
    "Given a list of n-1 numbers ranging from 1 to n, your task is to find the missing number. There are no duplicates"
   ]
  },
  {
   "cell_type": "code",
   "execution_count": 19,
   "metadata": {},
   "outputs": [
    {
     "name": "stdout",
     "output_type": "stream",
     "text": [
      "Missing numbers in the list [3, 5, 8]\n"
     ]
    }
   ],
   "source": [
    "def find_missing(lst):\n",
    "    return sorted(set(range(lst[0], lst[-1]))-set(lst))\n",
    "lst = [1, 2, 4, 6, 7, 9, 10]\n",
    "print(\"Missing numbers in the list\",find_missing(lst))"
   ]
  },
  {
   "cell_type": "markdown",
   "metadata": {},
   "source": [
    "# Question 5:\n",
    "With a given list L, write a program to print this list L after removing all duplicate values with original order reserved.\n"
   ]
  },
  {
   "cell_type": "code",
   "execution_count": 20,
   "metadata": {},
   "outputs": [
    {
     "name": "stdout",
     "output_type": "stream",
     "text": [
      "Enter the list with duplictae values: 12 24 35 24\n",
      "Output without duplicate values: ['12', '24', '35']\n"
     ]
    }
   ],
   "source": [
    "my_lst = input(\"Enter the list with duplictae values: \")\n",
    "\n",
    "new_lst = [x for x in my_lst.split(\" \")]\n",
    "\n",
    "new_lst = list(dict.fromkeys(new_lst))\n",
    "\n",
    "print(\"Output without duplicate values:\", new_lst)\n"
   ]
  },
  {
   "cell_type": "code",
   "execution_count": null,
   "metadata": {},
   "outputs": [],
   "source": []
  }
 ],
 "metadata": {
  "kernelspec": {
   "display_name": "Python 3",
   "language": "python",
   "name": "python3"
  },
  "language_info": {
   "codemirror_mode": {
    "name": "ipython",
    "version": 3
   },
   "file_extension": ".py",
   "mimetype": "text/x-python",
   "name": "python",
   "nbconvert_exporter": "python",
   "pygments_lexer": "ipython3",
   "version": "3.7.6"
  }
 },
 "nbformat": 4,
 "nbformat_minor": 4
}
