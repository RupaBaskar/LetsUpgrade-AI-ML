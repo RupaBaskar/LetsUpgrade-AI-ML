{
 "cells": [
  {
   "cell_type": "markdown",
   "metadata": {},
   "source": [
    "Assignmnet 1 - Day 3"
   ]
  },
  {
   "cell_type": "markdown",
   "metadata": {},
   "source": [
    "1. Write a program to subtract two complex numbers in Python."
   ]
  },
  {
   "cell_type": "code",
   "execution_count": 5,
   "metadata": {},
   "outputs": [
    {
     "name": "stdout",
     "output_type": "stream",
     "text": [
      "The subtraction of two complex number is (1-3j)\n"
     ]
    }
   ],
   "source": [
    "def subComplex(i1,i2):\n",
    "    return i1-i2\n",
    "i1 = complex(5, 3)\n",
    "i2 = complex(4, 6)\n",
    "print(\"The subtraction of two complex number is\", subComplex(i1, i2))"
   ]
  },
  {
   "cell_type": "markdown",
   "metadata": {},
   "source": [
    "2.Write a program to find the fourth root of a number"
   ]
  },
  {
   "cell_type": "code",
   "execution_count": 49,
   "metadata": {},
   "outputs": [
    {
     "name": "stdout",
     "output_type": "stream",
     "text": [
      "The output is 4.600653267582412\n"
     ]
    }
   ],
   "source": [
    "import math\n",
    "\n",
    "def fourth_root(num, root):\n",
    "    output = num**(1/root)\n",
    "    return output\n",
    "print(\"The output is\", fourth_root(448, 4))\n"
   ]
  },
  {
   "cell_type": "markdown",
   "metadata": {},
   "source": [
    "3. Write a program to swap two numbers in Python with the help of a temporary variable."
   ]
  },
  {
   "cell_type": "code",
   "execution_count": 50,
   "metadata": {},
   "outputs": [
    {
     "name": "stdout",
     "output_type": "stream",
     "text": [
      "The value of a after swapping: 15\n",
      "The value of b after swapping: 10\n"
     ]
    }
   ],
   "source": [
    "a=10\n",
    "b=15\n",
    "temp=a\n",
    "a=b\n",
    "b=temp\n",
    "print('The value of a after swapping: {}'.format(a))\n",
    "print('The value of b after swapping: {}'.format(b))"
   ]
  },
  {
   "cell_type": "markdown",
   "metadata": {},
   "source": [
    "4.Write a program to swap two numbers in Python without using a temporary variable"
   ]
  },
  {
   "cell_type": "code",
   "execution_count": 51,
   "metadata": {},
   "outputs": [
    {
     "name": "stdout",
     "output_type": "stream",
     "text": [
      "After Swapping: a = 10  b = 15\n"
     ]
    }
   ],
   "source": [
    "a=15\n",
    "b=10\n",
    "a = a+b # a now becomes 25 \n",
    "b = a-b # b now becomes 15 \n",
    "a = a-b # a now becomes 10\n",
    "print(\"After Swapping: a =\", a, \" b =\", b);\n"
   ]
  },
  {
   "cell_type": "markdown",
   "metadata": {},
   "source": [
    "5. Write a program to convert fahrenheit to kelvin and celsius both"
   ]
  },
  {
   "cell_type": "code",
   "execution_count": 52,
   "metadata": {},
   "outputs": [
    {
     "name": "stdout",
     "output_type": "stream",
     "text": [
      "Temperature in Kelvin ( K ) = 310.928\n",
      "Temperature in Celsius ( C ) = 37.778\n"
     ]
    }
   ],
   "source": [
    "\n",
    "def Fahrenheit_to_Kelvin(F):\n",
    "    Kelvin = 273.15 + ((F - 32.0) * 5/9)\n",
    "    return Kelvin\n",
    "\n",
    "print(\"Temperature in Kelvin ( K ) = {:.3f}\".format(Fahrenheit_to_Kelvin( 100 )))\n",
    "\n",
    "def Fahrenheit_to_Celsius(F):\n",
    "    Celsius =(F - 32.0) * 5/9\n",
    "    return Celsius\n",
    "\n",
    "print(\"Temperature in Celsius ( C ) = {:.3f}\".format(Fahrenheit_to_Celsius( 100 )))\n",
    "\n",
    "\n",
    "    "
   ]
  },
  {
   "cell_type": "markdown",
   "metadata": {},
   "source": [
    "6.Write a program to demonstrate all the available data types in Python. Hint: Use type() function."
   ]
  },
  {
   "cell_type": "markdown",
   "metadata": {},
   "source": [
    "# String:\n",
    "\n",
    "It is a sequence of character enclosed with in \"\" or ''"
   ]
  },
  {
   "cell_type": "code",
   "execution_count": 53,
   "metadata": {},
   "outputs": [
    {
     "name": "stdout",
     "output_type": "stream",
     "text": [
      "I am new to python.\n",
      "length of string19\n"
     ]
    },
    {
     "data": {
      "text/plain": [
       "str"
      ]
     },
     "execution_count": 53,
     "metadata": {},
     "output_type": "execute_result"
    }
   ],
   "source": [
    "str_eaxmple = \"I am new to python.\"\n",
    "print(str_eaxmple)\n",
    "print(\"length of string\" + str(len(str_eaxmple)))\n",
    "type(str_eaxmple)"
   ]
  },
  {
   "cell_type": "markdown",
   "metadata": {},
   "source": [
    "# Int\n",
    "\n",
    "It is a whole number."
   ]
  },
  {
   "cell_type": "code",
   "execution_count": 54,
   "metadata": {},
   "outputs": [
    {
     "name": "stdout",
     "output_type": "stream",
     "text": [
      "Sum of a and b is 11\n",
      "Sub of a and b is -1\n",
      "Mul of a and b is 30\n",
      "Div of a and b is 0.8333333333333334\n"
     ]
    }
   ],
   "source": [
    "a = 5\n",
    "b = 6\n",
    "print(\"Sum of a and b is \" + str(a + b))\n",
    "print(\"Sub of a and b is \" + str(a - b))\n",
    "print(\"Mul of a and b is \" + str(a * b))\n",
    "print(\"Div of a and b is \" + str(a / b))"
   ]
  },
  {
   "cell_type": "markdown",
   "metadata": {},
   "source": [
    "# Float\n",
    "\n",
    "It is number with a decimal part."
   ]
  },
  {
   "cell_type": "code",
   "execution_count": 55,
   "metadata": {},
   "outputs": [
    {
     "name": "stdout",
     "output_type": "stream",
     "text": [
      "Sum of a and b is 12.8\n",
      "Sub of a and b is -1.7999999999999998\n",
      "Mul of a and b is 40.15\n",
      "Div of a and b is 0.7534246575342466\n"
     ]
    },
    {
     "data": {
      "text/plain": [
       "float"
      ]
     },
     "execution_count": 55,
     "metadata": {},
     "output_type": "execute_result"
    }
   ],
   "source": [
    "\n",
    "a = 5.5\n",
    "b = 7.3\n",
    "print(\"Sum of a and b is \" + str(a + b))\n",
    "print(\"Sub of a and b is \" + str(a - b))\n",
    "print(\"Mul of a and b is \" + str(a * b))\n",
    "print(\"Div of a and b is \" + str(a / b))\n",
    "type(b)"
   ]
  },
  {
   "cell_type": "markdown",
   "metadata": {},
   "source": [
    "# Boolean\n",
    "\n",
    "It is True or false only."
   ]
  },
  {
   "cell_type": "code",
   "execution_count": 56,
   "metadata": {},
   "outputs": [
    {
     "name": "stdout",
     "output_type": "stream",
     "text": [
      "a value is True\n",
      "b value is False\n"
     ]
    },
    {
     "data": {
      "text/plain": [
       "bool"
      ]
     },
     "execution_count": 56,
     "metadata": {},
     "output_type": "execute_result"
    }
   ],
   "source": [
    "a = True\n",
    "b = False\n",
    "print(\"a value is \" + str(a))\n",
    "print(\"b value is \" + str(b))\n",
    "type(b)"
   ]
  },
  {
   "cell_type": "markdown",
   "metadata": {},
   "source": [
    "# List\n",
    "\n",
    "It is an ordered sequence of objects. \n",
    "It is mutable.\n",
    "It is enclosed with in []."
   ]
  },
  {
   "cell_type": "markdown",
   "metadata": {},
   "source": [
    "Functions:\n",
    "\n",
    "append(): It is used to add an object to an existing list. Elements will be added at the end of the list.\n",
    "\n",
    "clear(): It is used to remove all the elements from the list.\n",
    "\n",
    "copy(): It is used to copy the existing list to another variable. An changes to the original list will not affect the copied list.\n",
    "\n",
    "count(): It is used to find the count of specific element in a list.\n",
    "\n",
    "extend(): It is used to extend an existing list or iterable to the end of the list.\n",
    "\n",
    "index(): It is used to return the index of the first element of the specified value.\n",
    "\n",
    "insert(): It is used to add an element at a specified position.\n",
    "\n",
    "pop(): It is used to remove the element at a specified position or remove the last element of the list if position is not mentioned.\n",
    "\n",
    "remove(): It is used to remove the first occuring element of the specified value in the list.\n",
    "\n",
    "reverse(): It is used to reverse the list.\n",
    "\n",
    "sort(): it is used to sort the list. By default the list is sorted ascending.\n"
   ]
  },
  {
   "cell_type": "code",
   "execution_count": 57,
   "metadata": {},
   "outputs": [
    {
     "name": "stdout",
     "output_type": "stream",
     "text": [
      "lst after appending the data:\n",
      "['hello', 5, 2.8, True]\n"
     ]
    },
    {
     "data": {
      "text/plain": [
       "list"
      ]
     },
     "execution_count": 57,
     "metadata": {},
     "output_type": "execute_result"
    }
   ],
   "source": [
    "lst1 = [\"hello\",5,2.8,True]\n",
    "# List append() functiion:\n",
    "lst.append(False)\n",
    "lst.append([\"Appending to lst\", True])\n",
    "print(\"lst after appending the data:\")\n",
    "print(lst1)\n",
    "\n",
    "type(lst1)"
   ]
  },
  {
   "cell_type": "markdown",
   "metadata": {},
   "source": [
    "# Dictionary\n",
    "\n",
    "It is an unordered collection. \n",
    "It is mutable.\n",
    "It is enclosed with in {}.\n",
    "It is expressed in key value pair.\n",
    "\n",
    "Functions\n",
    "clear(): It is used to remove all the elements from the dictionary.\n",
    "\n",
    "copy(): It is used to copy the existing dictionary to another variable. An changes to the original dictionary will not affect the copied dictionary.\n",
    "\n",
    "fromkeys(): It is used to create dictionary with the keys and values pased as an argument to function.\n",
    "\n",
    "get(): It is used to get the value of the specified key which is the parameter to the function.\n",
    "\n",
    "items(): It is used to return the key value pair of dictionary as tuples in a list.\n",
    "\n",
    "keys(): It is used to get the list of all the keys in the dictionary.\n",
    "\n",
    "pop(): It is used to remove the key value pair from the dictionary with the specified key.\n",
    "\n",
    "popitem(): It is used to remove the last inserted key value pair from the dictionary.\n",
    "\n",
    "setdefault(): It is used to set default values to specific keys.\n",
    "\n",
    "update(): It is used to update the dictionary with new key value pair.\n",
    "\n",
    "values(): It is used to get the list of all the values in the dictionary.\n"
   ]
  },
  {
   "cell_type": "code",
   "execution_count": 58,
   "metadata": {},
   "outputs": [
    {
     "name": "stdout",
     "output_type": "stream",
     "text": [
      "Printing the original dst:\n",
      "{'name': 'Rupa', 'age': 25, 'gender': 'Female'}\n",
      "\n",
      "\n",
      "Printing the copied dst1:\n",
      "{'name': 'Rupa', 'age': 25, 'gender': 'Female'}\n",
      "\n",
      "\n",
      "Printing the cleared dst1:\n",
      "{}\n"
     ]
    },
    {
     "data": {
      "text/plain": [
       "dict"
      ]
     },
     "execution_count": 58,
     "metadata": {},
     "output_type": "execute_result"
    }
   ],
   "source": [
    "\n",
    "# Dictionary copy() and clear() functions:\n",
    "dst = {\"name\": \"Rupa\", \"age\": 25, \"gender\": \"Female\"}\n",
    "print(\"Printing the original dst:\")\n",
    "print(dst)\n",
    "print(\"\\n\")\n",
    "\n",
    "dst1 = dst.copy()\n",
    "print(\"Printing the copied dst1:\")\n",
    "print(dst1)\n",
    "print(\"\\n\")\n",
    "\n",
    "dst1.clear()\n",
    "print(\"Printing the cleared dst1:\")\n",
    "print(dst1)\n",
    "type(dst1)"
   ]
  },
  {
   "cell_type": "markdown",
   "metadata": {},
   "source": [
    "# Tuple\n",
    "\n",
    "Tuple is a collection which is ordered.\n",
    "Tuple is immutable.\n",
    "Tuple is enclosed with in ().\n",
    "\n",
    "Functions¶\n",
    "count(): It is used to count the number of elements in an tuple which is passed as an argument.\n",
    "index(): Is is used to find an element and return it's index."
   ]
  },
  {
   "cell_type": "code",
   "execution_count": 59,
   "metadata": {},
   "outputs": [
    {
     "name": "stdout",
     "output_type": "stream",
     "text": [
      "Printing the count of tpl:\n",
      "2\n",
      "\n",
      "\n",
      "Printing the index of 8:\n",
      "3\n"
     ]
    }
   ],
   "source": [
    "# Tuples count() and index() function:\n",
    "\n",
    "tpl = (1,6,4,8,3,5,5)\n",
    "\n",
    "print(\"Printing the count of tpl:\")\n",
    "print(tpl.count(5))\n",
    "print(\"\\n\")\n",
    "\n",
    "print(\"Printing the index of 8:\")\n",
    "print(tpl.index(8))"
   ]
  },
  {
   "cell_type": "markdown",
   "metadata": {},
   "source": [
    "# Set\n",
    "\n",
    "It is a collection which is unordered and unindexed.\n",
    "\n",
    "It does not allow repeating elements.\n",
    "\n",
    "It is enclosed with in {}."
   ]
  },
  {
   "cell_type": "raw",
   "metadata": {},
   "source": [
    "# Functions\n",
    "\n",
    "add(): It is used to add an element to a set.\n",
    "clear(): It is used to clear the entier set.\n",
    "copy(): It is used to copy the existing set to another variable. An changes to the original dictionary will not affect the copied set.\n",
    "difference(): It is used to get a set containing only the elements in the first set which are not in the second set.\n",
    "difference_update(): It is used to update the first set with the difference of two sets.\n",
    "discard(): It is used to remove the specified element from the set.\n",
    "intersection(): It is used to get the similar elements from 2 or more sets.\n",
    "intersection_update(): It is used to update the first set with result of intersection function.\n",
    "isdisjoint(): It is used to check two set are disjoint sets.\n",
    "issubset(): It is used to check one set is sub set of another set.\n",
    "issuperset(): It is used to check one set is super set of another set.\n",
    "pop(): It is used to remove a randow element from the set.\n",
    "remove(): It is used to remove a specific element from the set. If the element is not present it will through an error.\n",
    "symmetric_difference(): It is used to get a set containing elements from both the set which are not present in both sets.\n",
    "symmetric_difference_update(): It is used to update the original set with the result of symmetric_difference.\n",
    "union(): It is used to combine two or more sets without repeating of elements.\n",
    "update(): It is used to update a set at the same time it perform the union function also."
   ]
  },
  {
   "cell_type": "code",
   "execution_count": 60,
   "metadata": {},
   "outputs": [
    {
     "name": "stdout",
     "output_type": "stream",
     "text": [
      "Printing set a:\n",
      "{1, 2, 3, 4, 5}\n",
      "\n",
      "\n",
      "Printing set b:\n",
      "{3, 4, 5, 6, 7, 8}\n",
      "\n",
      "\n",
      "Printing the set a with element 6 added to it:\n",
      "{1, 2, 3, 4, 5, 6}\n"
     ]
    }
   ],
   "source": [
    "a = {1,2,3,4,5}\n",
    "b = {3,4,5,6,7,8}\n",
    "\n",
    "print(\"Printing set a:\")\n",
    "print(a)\n",
    "print(\"\\n\")\n",
    "\n",
    "print(\"Printing set b:\")\n",
    "print(b)\n",
    "print(\"\\n\")\n",
    "\n",
    "print(\"Printing the set a with element 6 added to it:\")\n",
    "a.add(6)\n",
    "print(a)"
   ]
  },
  {
   "cell_type": "markdown",
   "metadata": {},
   "source": [
    "Question 7: Create a Markdown cell in jupyter and list the steps discussed in the session by Dr. Darshan\n",
    "Ingle sir to create Github profile and upload Githubs Assignment link."
   ]
  },
  {
   "cell_type": "markdown",
   "metadata": {},
   "source": [
    "step 1: Go to github.com and sign up using gmail account (If you were not signed up.\n",
    "\n",
    "step 2: Create folder for assignment in your local machine.\n",
    "\n",
    "step 3: In github site, click \"New\" and then  Create a new repository by giving the Repository name as \"LetsUpgrade AI-ML\"\n",
    "\n",
    "step 4: Description would be \"Assignments\" and then visibility sould be \"PUBLIC\"\n",
    "\n",
    "step 5: Now, click \"Create a new repository\" and then click \"uploade existing file\"\n",
    "\n",
    "step 6: You can drag and drop the files or click \"Choose your files\"\n",
    "\n",
    "step: Now upload your assignment files to your Github repository."
   ]
  },
  {
   "cell_type": "markdown",
   "metadata": {},
   "source": []
  },
  {
   "cell_type": "code",
   "execution_count": null,
   "metadata": {},
   "outputs": [],
   "source": []
  }
 ],
 "metadata": {
  "kernelspec": {
   "display_name": "Python 3",
   "language": "python",
   "name": "python3"
  },
  "language_info": {
   "codemirror_mode": {
    "name": "ipython",
    "version": 3
   },
   "file_extension": ".py",
   "mimetype": "text/x-python",
   "name": "python",
   "nbconvert_exporter": "python",
   "pygments_lexer": "ipython3",
   "version": "3.7.6"
  }
 },
 "nbformat": 4,
 "nbformat_minor": 4
}
