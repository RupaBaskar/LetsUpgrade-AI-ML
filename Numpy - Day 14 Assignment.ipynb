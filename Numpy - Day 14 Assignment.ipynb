{
 "cells": [
  {
   "cell_type": "code",
   "execution_count": 2,
   "metadata": {},
   "outputs": [],
   "source": [
    "import numpy as np"
   ]
  },
  {
   "cell_type": "markdown",
   "metadata": {},
   "source": [
    "# 1. Create a 3x3x3 array with random values"
   ]
  },
  {
   "cell_type": "code",
   "execution_count": 4,
   "metadata": {},
   "outputs": [
    {
     "data": {
      "text/plain": [
       "array([[[0.16562033, 0.23820316, 0.12527899],\n",
       "        [0.26274835, 0.33858298, 0.12932307],\n",
       "        [0.57745654, 0.86460177, 0.45296476]],\n",
       "\n",
       "       [[0.46263927, 0.20431293, 0.52152479],\n",
       "        [0.06429315, 0.276261  , 0.5618551 ],\n",
       "        [0.40952861, 0.29296748, 0.57837657]],\n",
       "\n",
       "       [[0.5316353 , 0.8058469 , 0.68216862],\n",
       "        [0.74517041, 0.34694026, 0.63837315],\n",
       "        [0.01725187, 0.02139877, 0.61684938]]])"
      ]
     },
     "execution_count": 4,
     "metadata": {},
     "output_type": "execute_result"
    }
   ],
   "source": [
    "x=np.random.random((3,3,3))\n",
    "x"
   ]
  },
  {
   "cell_type": "markdown",
   "metadata": {},
   "source": [
    "# 2.Create a 5x5 matrix with values 1,2,3,4 just below the diagonal"
   ]
  },
  {
   "cell_type": "code",
   "execution_count": 6,
   "metadata": {},
   "outputs": [
    {
     "data": {
      "text/plain": [
       "array([[1, 0, 0, 0, 0],\n",
       "       [0, 2, 0, 0, 0],\n",
       "       [0, 0, 3, 0, 0],\n",
       "       [0, 0, 0, 4, 0],\n",
       "       [0, 0, 0, 0, 5]])"
      ]
     },
     "execution_count": 6,
     "metadata": {},
     "output_type": "execute_result"
    }
   ],
   "source": [
    "np.diag([1,2,3,4,5])"
   ]
  },
  {
   "cell_type": "markdown",
   "metadata": {},
   "source": [
    "# 3.Create a 8x8 matrix and fill it with a checkerboard pattern"
   ]
  },
  {
   "cell_type": "code",
   "execution_count": 26,
   "metadata": {},
   "outputs": [
    {
     "name": "stdout",
     "output_type": "stream",
     "text": [
      "Checkerboard pattern:\n"
     ]
    },
    {
     "data": {
      "text/plain": [
       "array([[0, 1, 0, 1, 0, 1, 0, 1],\n",
       "       [1, 0, 1, 0, 1, 0, 1, 0],\n",
       "       [0, 1, 0, 1, 0, 1, 0, 1],\n",
       "       [1, 0, 1, 0, 1, 0, 1, 0],\n",
       "       [0, 1, 0, 1, 0, 1, 0, 1],\n",
       "       [1, 0, 1, 0, 1, 0, 1, 0],\n",
       "       [0, 1, 0, 1, 0, 1, 0, 1],\n",
       "       [1, 0, 1, 0, 1, 0, 1, 0]])"
      ]
     },
     "execution_count": 26,
     "metadata": {},
     "output_type": "execute_result"
    }
   ],
   "source": [
    "print(\"Checkerboard pattern:\")\n",
    "x=np.zeros((8,8), dtype=int)\n",
    "x[1::2,::2] = 1\n",
    "x[::2,1::2] = 1\n",
    "x\n",
    "\n"
   ]
  },
  {
   "cell_type": "markdown",
   "metadata": {},
   "source": [
    "# 4. Normalize a 5x5 random matrix"
   ]
  },
  {
   "cell_type": "code",
   "execution_count": 32,
   "metadata": {},
   "outputs": [
    {
     "name": "stdout",
     "output_type": "stream",
     "text": [
      "The original matrix:\n",
      "[[0.51871149 0.08148365 0.98635282 0.53396068 0.51584364]\n",
      " [0.52869666 0.37252925 0.55442206 0.20930182 0.13729685]\n",
      " [0.61554716 0.18735413 0.43822086 0.04781679 0.88253983]\n",
      " [0.45199978 0.75694435 0.16442206 0.9875318  0.68811746]\n",
      " [0.6803616  0.70412617 0.95391915 0.14660026 0.11645304]]\n",
      "Normalized matrix:\n",
      "[[ 0.42247419 -0.01475365  0.89011552  0.43772338  0.41960634]\n",
      " [ 0.43245936  0.27629195  0.45818476  0.11306452  0.04105955]\n",
      " [ 0.51930986  0.09111683  0.34198356 -0.04842051  0.78630253]\n",
      " [ 0.35576249  0.66070706  0.06818476  0.8912945   0.59188016]\n",
      " [ 0.5841243   0.60788887  0.85768185  0.05036296  0.02021574]]\n"
     ]
    }
   ],
   "source": [
    "x=np.random.random((5,5))\n",
    "print(\"The original matrix:\")\n",
    "print(x)\n",
    "xmax,xmin = x.max(), x.min()\n",
    "x=x-xmin/xmax-xmin\n",
    "print(\"Normalized matrix:\")\n",
    "print(x)"
   ]
  },
  {
   "cell_type": "markdown",
   "metadata": {},
   "source": [
    "# 5.  How to find common values between two arrays?"
   ]
  },
  {
   "cell_type": "code",
   "execution_count": 35,
   "metadata": {},
   "outputs": [
    {
     "name": "stdout",
     "output_type": "stream",
     "text": [
      "Array1: [10, 4, 6, 12, 3, 8]\n",
      "Array2: [4, 13, 12, 3, 19]\n",
      "common values between two arrays:\n",
      "[ 3  4 12]\n"
     ]
    }
   ],
   "source": [
    "array1=([10,4,6,12,3,8])\n",
    "array2=([4,13,12,3,19])\n",
    "print(\"Array1:\", array1)\n",
    "print(\"Array2:\", array2)\n",
    "print(\"common values between two arrays:\")\n",
    "array3=np.intersect1d(array1,array2)\n",
    "print(array3)"
   ]
  },
  {
   "cell_type": "markdown",
   "metadata": {},
   "source": [
    "# 6.How to get the dates of yesterday, today and tomorrow?"
   ]
  },
  {
   "cell_type": "code",
   "execution_count": 40,
   "metadata": {},
   "outputs": [
    {
     "name": "stdout",
     "output_type": "stream",
     "text": [
      "Yesterday date: 2020-07-27\n",
      "Today's date: 2020-07-28\n",
      "Tomorrow's date 2020-07-29\n"
     ]
    }
   ],
   "source": [
    "yesterday = np.datetime64('today', 'D') - np.timedelta64(1, 'D')\n",
    "print(\"Yesterday date:\", yesterday)\n",
    "today = np.datetime64('today', 'D')\n",
    "print(\"Today's date:\", today)\n",
    "Tomorrow = np.datetime64('today', 'D') + np.timedelta64(1, 'D')\n",
    "print(\"Tomorrow's date\", Tomorrow)"
   ]
  },
  {
   "cell_type": "markdown",
   "metadata": {},
   "source": [
    "# 7. Consider two random array A and B, check if they are equal"
   ]
  },
  {
   "cell_type": "code",
   "execution_count": 43,
   "metadata": {},
   "outputs": [
    {
     "name": "stdout",
     "output_type": "stream",
     "text": [
      "Array1 [1 1 0 0 0 1]\n",
      "Array2 [1 1 0 1 1 1]\n",
      "False\n"
     ]
    }
   ],
   "source": [
    "x=np.random.randint(0,2,6)\n",
    "print(\"Array1\", x)\n",
    "y=np.random.randint(0,2,6)\n",
    "print(\"Array2\", y)\n",
    "array_equal=np.allclose(x,y)\n",
    "print(array_equal)"
   ]
  },
  {
   "cell_type": "markdown",
   "metadata": {},
   "source": [
    "# 8.Create random vector of size 10 and replace the maximum value by 0 "
   ]
  },
  {
   "cell_type": "code",
   "execution_count": 45,
   "metadata": {},
   "outputs": [
    {
     "name": "stdout",
     "output_type": "stream",
     "text": [
      "Random matrix [0.21594388 0.15786674 0.78434364 0.18538507 0.20208615 0.48718113\n",
      " 0.78795259 0.85196938 0.96598101 0.2475693 ]\n",
      "Maximum values replaced by 0:\n",
      "[0.21594388 0.15786674 0.78434364 0.18538507 0.20208615 0.48718113\n",
      " 0.78795259 0.85196938 0.         0.2475693 ]\n"
     ]
    }
   ],
   "source": [
    "x=np.random.random(10)\n",
    "print(\"Random matrix\", x)\n",
    "x[x.argmax()] = 0\n",
    "print(\"Maximum values replaced by 0:\")\n",
    "print(x)"
   ]
  },
  {
   "cell_type": "markdown",
   "metadata": {},
   "source": [
    "# 9. How to print all the values of an array?"
   ]
  },
  {
   "cell_type": "code",
   "execution_count": 10,
   "metadata": {},
   "outputs": [
    {
     "name": "stdout",
     "output_type": "stream",
     "text": [
      "[   0    1    2    3    4    5    6    7    8    9   10   11   12   13\n",
      "   14   15   16   17   18   19   20   21   22   23   24   25   26   27\n",
      "   28   29   30   31   32   33   34   35   36   37   38   39   40   41\n",
      "   42   43   44   45   46   47   48   49   50   51   52   53   54   55\n",
      "   56   57   58   59   60   61   62   63   64   65   66   67   68   69\n",
      "   70   71   72   73   74   75   76   77   78   79   80   81   82   83\n",
      "   84   85   86   87   88   89   90   91   92   93   94   95   96   97\n",
      "   98   99  100  101  102  103  104  105  106  107  108  109  110  111\n",
      "  112  113  114  115  116  117  118  119  120  121  122  123  124  125\n",
      "  126  127  128  129  130  131  132  133  134  135  136  137  138  139\n",
      "  140  141  142  143  144  145  146  147  148  149  150  151  152  153\n",
      "  154  155  156  157  158  159  160  161  162  163  164  165  166  167\n",
      "  168  169  170  171  172  173  174  175  176  177  178  179  180  181\n",
      "  182  183  184  185  186  187  188  189  190  191  192  193  194  195\n",
      "  196  197  198  199  200  201  202  203  204  205  206  207  208  209\n",
      "  210  211  212  213  214  215  216  217  218  219  220  221  222  223\n",
      "  224  225  226  227  228  229  230  231  232  233  234  235  236  237\n",
      "  238  239  240  241  242  243  244  245  246  247  248  249  250  251\n",
      "  252  253  254  255  256  257  258  259  260  261  262  263  264  265\n",
      "  266  267  268  269  270  271  272  273  274  275  276  277  278  279\n",
      "  280  281  282  283  284  285  286  287  288  289  290  291  292  293\n",
      "  294  295  296  297  298  299  300  301  302  303  304  305  306  307\n",
      "  308  309  310  311  312  313  314  315  316  317  318  319  320  321\n",
      "  322  323  324  325  326  327  328  329  330  331  332  333  334  335\n",
      "  336  337  338  339  340  341  342  343  344  345  346  347  348  349\n",
      "  350  351  352  353  354  355  356  357  358  359  360  361  362  363\n",
      "  364  365  366  367  368  369  370  371  372  373  374  375  376  377\n",
      "  378  379  380  381  382  383  384  385  386  387  388  389  390  391\n",
      "  392  393  394  395  396  397  398  399  400  401  402  403  404  405\n",
      "  406  407  408  409  410  411  412  413  414  415  416  417  418  419\n",
      "  420  421  422  423  424  425  426  427  428  429  430  431  432  433\n",
      "  434  435  436  437  438  439  440  441  442  443  444  445  446  447\n",
      "  448  449  450  451  452  453  454  455  456  457  458  459  460  461\n",
      "  462  463  464  465  466  467  468  469  470  471  472  473  474  475\n",
      "  476  477  478  479  480  481  482  483  484  485  486  487  488  489\n",
      "  490  491  492  493  494  495  496  497  498  499  500  501  502  503\n",
      "  504  505  506  507  508  509  510  511  512  513  514  515  516  517\n",
      "  518  519  520  521  522  523  524  525  526  527  528  529  530  531\n",
      "  532  533  534  535  536  537  538  539  540  541  542  543  544  545\n",
      "  546  547  548  549  550  551  552  553  554  555  556  557  558  559\n",
      "  560  561  562  563  564  565  566  567  568  569  570  571  572  573\n",
      "  574  575  576  577  578  579  580  581  582  583  584  585  586  587\n",
      "  588  589  590  591  592  593  594  595  596  597  598  599  600  601\n",
      "  602  603  604  605  606  607  608  609  610  611  612  613  614  615\n",
      "  616  617  618  619  620  621  622  623  624  625  626  627  628  629\n",
      "  630  631  632  633  634  635  636  637  638  639  640  641  642  643\n",
      "  644  645  646  647  648  649  650  651  652  653  654  655  656  657\n",
      "  658  659  660  661  662  663  664  665  666  667  668  669  670  671\n",
      "  672  673  674  675  676  677  678  679  680  681  682  683  684  685\n",
      "  686  687  688  689  690  691  692  693  694  695  696  697  698  699\n",
      "  700  701  702  703  704  705  706  707  708  709  710  711  712  713\n",
      "  714  715  716  717  718  719  720  721  722  723  724  725  726  727\n",
      "  728  729  730  731  732  733  734  735  736  737  738  739  740  741\n",
      "  742  743  744  745  746  747  748  749  750  751  752  753  754  755\n",
      "  756  757  758  759  760  761  762  763  764  765  766  767  768  769\n",
      "  770  771  772  773  774  775  776  777  778  779  780  781  782  783\n",
      "  784  785  786  787  788  789  790  791  792  793  794  795  796  797\n",
      "  798  799  800  801  802  803  804  805  806  807  808  809  810  811\n",
      "  812  813  814  815  816  817  818  819  820  821  822  823  824  825\n",
      "  826  827  828  829  830  831  832  833  834  835  836  837  838  839\n",
      "  840  841  842  843  844  845  846  847  848  849  850  851  852  853\n",
      "  854  855  856  857  858  859  860  861  862  863  864  865  866  867\n",
      "  868  869  870  871  872  873  874  875  876  877  878  879  880  881\n",
      "  882  883  884  885  886  887  888  889  890  891  892  893  894  895\n",
      "  896  897  898  899  900  901  902  903  904  905  906  907  908  909\n",
      "  910  911  912  913  914  915  916  917  918  919  920  921  922  923\n",
      "  924  925  926  927  928  929  930  931  932  933  934  935  936  937\n",
      "  938  939  940  941  942  943  944  945  946  947  948  949  950  951\n",
      "  952  953  954  955  956  957  958  959  960  961  962  963  964  965\n",
      "  966  967  968  969  970  971  972  973  974  975  976  977  978  979\n",
      "  980  981  982  983  984  985  986  987  988  989  990  991  992  993\n",
      "  994  995  996  997  998  999 1000]\n"
     ]
    }
   ],
   "source": [
    "import numpy as np\n",
    "my_array = np.arange(1001)\n",
    "np.set_printoptions(threshold=np.inf)\n",
    "print(my_array)"
   ]
  },
  {
   "cell_type": "markdown",
   "metadata": {},
   "source": [
    "# 10.Subtract the mean of each row of a matrix"
   ]
  },
  {
   "cell_type": "code",
   "execution_count": 50,
   "metadata": {},
   "outputs": [
    {
     "name": "stdout",
     "output_type": "stream",
     "text": [
      "Original matrix\n",
      "[[0.60644869 0.55263642 0.38470854]\n",
      " [0.94465659 0.4346875  0.65046982]\n",
      " [0.73006436 0.31452883 0.32077382]\n",
      " [0.31721696 0.17682842 0.67308844]\n",
      " [0.29885491 0.34559881 0.57411604]]\n",
      "The output:\n",
      "[[ 0.09185081  0.03803853 -0.12988934]\n",
      " [ 0.26805195 -0.24191714 -0.02613482]\n",
      " [ 0.27494202 -0.14059351 -0.13434852]\n",
      " [-0.07182765 -0.21221619  0.28404383]\n",
      " [-0.10733501 -0.06059111  0.16792612]]\n"
     ]
    }
   ],
   "source": [
    "x=np.random.rand(5,3)\n",
    "print(\"Original matrix\")\n",
    "print(x)\n",
    "y = x-x.mean(axis=1, keepdims=True)\n",
    "print(\"The output:\")\n",
    "print(y)"
   ]
  },
  {
   "cell_type": "markdown",
   "metadata": {},
   "source": [
    "# 11.Consider a given vector, how to add 1 to each element indexed by a second vector (be careful with repeated indices)? "
   ]
  },
  {
   "cell_type": "code",
   "execution_count": 58,
   "metadata": {},
   "outputs": [
    {
     "name": "stdout",
     "output_type": "stream",
     "text": [
      "Input matrix:\n",
      "[[0.82989737 0.69846289 0.16073069 0.15001781 0.64423433]\n",
      " [0.59328133 0.9000081  0.85702349 0.15459395 0.99677997]\n",
      " [0.46022506 0.11490642 0.98183759 0.3348631  0.26266565]]\n",
      "The output matrix:\n",
      "[[1.82989737 1.69846289 1.16073069 1.15001781 1.64423433]\n",
      " [1.59328133 1.9000081  1.85702349 1.15459395 1.99677997]\n",
      " [1.46022506 1.11490642 1.98183759 1.3348631  1.26266565]]\n"
     ]
    }
   ],
   "source": [
    "x=np.random.random((3,5))\n",
    "print(\"Input matrix:\")\n",
    "print(x)\n",
    "y=x+1\n",
    "print(\"The output matrix:\")\n",
    "print(y)"
   ]
  },
  {
   "cell_type": "code",
   "execution_count": null,
   "metadata": {},
   "outputs": [],
   "source": []
  },
  {
   "cell_type": "markdown",
   "metadata": {},
   "source": [
    "# 12.How to get the diagonal of a dot product?"
   ]
  },
  {
   "cell_type": "code",
   "execution_count": 32,
   "metadata": {},
   "outputs": [
    {
     "name": "stdout",
     "output_type": "stream",
     "text": [
      "Input matrix:\n",
      "\n",
      "[[0.09815399 0.50946779 0.1064791 ]\n",
      " [0.07779888 0.92733896 0.26288723]\n",
      " [0.41182389 0.98598704 0.85383032]]\n",
      "\n",
      "Diagonal of a product:\n"
     ]
    },
    {
     "data": {
      "text/plain": [
       "array([0.18528579, 2.09168541, 0.8094737 ])"
      ]
     },
     "execution_count": 32,
     "metadata": {},
     "output_type": "execute_result"
    }
   ],
   "source": [
    "x=np.random.random((3,3))\n",
    "print(\"Input matrix:\\n\")\n",
    "print(x)\n",
    "d = (x * x).sum(axis=0)\n",
    "print(\"\\nDiagonal of a product:\")\n",
    "d"
   ]
  },
  {
   "cell_type": "markdown",
   "metadata": {},
   "source": [
    "# 13.How to find the most frequent value in an array?"
   ]
  },
  {
   "cell_type": "code",
   "execution_count": 66,
   "metadata": {},
   "outputs": [
    {
     "name": "stdout",
     "output_type": "stream",
     "text": [
      "Input:\n",
      "[7 6 3 5 6]\n",
      "Most frequent value in an array:\n",
      "6\n"
     ]
    }
   ],
   "source": [
    "x=np.random.randint(0,10,5)\n",
    "print(\"Input:\")\n",
    "print(x)\n",
    "y = np.bincount(x).argmax()\n",
    "print(\"Most frequent value in an array:\")\n",
    "print(y)"
   ]
  },
  {
   "cell_type": "markdown",
   "metadata": {},
   "source": [
    "# 14.How to get the n largest values of an array"
   ]
  },
  {
   "cell_type": "code",
   "execution_count": 70,
   "metadata": {},
   "outputs": [
    {
     "name": "stdout",
     "output_type": "stream",
     "text": [
      "Input matrix [2 0 6 9 1 5 4 7 3 8]\n",
      "Largest value of an array:\n",
      "[9]\n"
     ]
    }
   ],
   "source": [
    "x=np.arange(10)\n",
    "np.random.shuffle(x)\n",
    "print(\"Input matrix\", x)\n",
    "n=1\n",
    "print(\"Largest value of an array:\")\n",
    "print(x[np.argsort(x)[-n:]])"
   ]
  },
  {
   "cell_type": "code",
   "execution_count": null,
   "metadata": {},
   "outputs": [],
   "source": []
  },
  {
   "cell_type": "markdown",
   "metadata": {},
   "source": [
    "# 15.How to create a record array from a regular array?"
   ]
  },
  {
   "cell_type": "code",
   "execution_count": 74,
   "metadata": {},
   "outputs": [
    {
     "name": "stdout",
     "output_type": "stream",
     "text": [
      "('Rupa', 'Red', 25)\n",
      "('Devi', 'black', 31)\n",
      "('Malar', 'White', 30)\n"
     ]
    }
   ],
   "source": [
    "x1=[\"Rupa\", \"Devi\",\"Malar\"]\n",
    "x2=[\"Red\",\"black\",\"White\"]\n",
    "x3=[25, 31, 30]\n",
    "result=np.core.records.fromarrays([x1,x2,x3], names=\"a,b,c\")\n",
    "print(result[0])\n",
    "print(result[1])\n",
    "print(result[2])"
   ]
  }
 ],
 "metadata": {
  "kernelspec": {
   "display_name": "Python 3",
   "language": "python",
   "name": "python3"
  },
  "language_info": {
   "codemirror_mode": {
    "name": "ipython",
    "version": 3
   },
   "file_extension": ".py",
   "mimetype": "text/x-python",
   "name": "python",
   "nbconvert_exporter": "python",
   "pygments_lexer": "ipython3",
   "version": "3.7.6"
  }
 },
 "nbformat": 4,
 "nbformat_minor": 2
}
